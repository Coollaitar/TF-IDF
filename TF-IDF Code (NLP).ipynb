{
 "cells": [
  {
   "cell_type": "markdown",
   "id": "edc1e886",
   "metadata": {},
   "source": [
    "## Import Libraries"
   ]
  },
  {
   "cell_type": "code",
   "execution_count": 1,
   "id": "3d8032e0",
   "metadata": {},
   "outputs": [],
   "source": [
    "from sklearn.feature_extraction.text import TfidfVectorizer,CountVectorizer\n",
    "import pandas as pd"
   ]
  },
  {
   "cell_type": "markdown",
   "id": "1c7babd4",
   "metadata": {},
   "source": [
    "## Store Text"
   ]
  },
  {
   "cell_type": "code",
   "execution_count": 2,
   "id": "3cc3456e",
   "metadata": {},
   "outputs": [],
   "source": [
    "# set of documents\n",
    "train = ['The sky is blue.','The sun is bright.']\n",
    "test = ['The sun in the sky is bright', 'We can see the shining sun, the bright sun.']"
   ]
  },
  {
   "cell_type": "markdown",
   "id": "e179c2f1",
   "metadata": {},
   "source": [
    "## Remove stopwords and store it in countvectorizer and tfidfvectorizer"
   ]
  },
  {
   "cell_type": "code",
   "execution_count": 3,
   "id": "1a6e87d7",
   "metadata": {},
   "outputs": [],
   "source": [
    "# instantiate the vectorizer object\n",
    "countvectorizer = CountVectorizer(analyzer= 'word', stop_words='english')\n",
    "tfidfvectorizer = TfidfVectorizer(analyzer='word',stop_words= 'english')\n"
   ]
  },
  {
   "cell_type": "markdown",
   "id": "bbd656a4",
   "metadata": {},
   "source": [
    "## Converting into Matrix"
   ]
  },
  {
   "cell_type": "code",
   "execution_count": 4,
   "id": "7f4b2de7",
   "metadata": {},
   "outputs": [],
   "source": [
    "# convert th documents into a matrix\n",
    "count_wm = countvectorizer.fit_transform(train)\n",
    "tfidf_wm = tfidfvectorizer.fit_transform(train)"
   ]
  },
  {
   "cell_type": "code",
   "execution_count": 5,
   "id": "3c215a77",
   "metadata": {
    "scrolled": true
   },
   "outputs": [
    {
     "name": "stdout",
     "output_type": "stream",
     "text": [
      "  (0, 2)\t1\n",
      "  (0, 0)\t1\n",
      "  (1, 3)\t1\n",
      "  (1, 1)\t1\n"
     ]
    }
   ],
   "source": [
    "print(count_wm)"
   ]
  },
  {
   "cell_type": "markdown",
   "id": "a0aa2bc3",
   "metadata": {},
   "source": [
    "## TF-IDF Values"
   ]
  },
  {
   "cell_type": "code",
   "execution_count": 7,
   "id": "1d90ed3c",
   "metadata": {},
   "outputs": [
    {
     "name": "stdout",
     "output_type": "stream",
     "text": [
      "  (0, 0)\t0.7071067811865476\n",
      "  (0, 2)\t0.7071067811865476\n",
      "  (1, 1)\t0.7071067811865476\n",
      "  (1, 3)\t0.7071067811865476\n"
     ]
    }
   ],
   "source": [
    "print(tfidf_wm)"
   ]
  },
  {
   "cell_type": "code",
   "execution_count": 8,
   "id": "65a66fe8",
   "metadata": {},
   "outputs": [],
   "source": [
    "#retrieve the terms found in the corpora\n",
    "# if we take same parameters on both Classes(CountVectorizer and TfidfVectorizer) , it will give same output of get_feature_names() methods)\n",
    "#count_tokens = tfidfvectorizer.get_feature_names() # no difference\n",
    "count_tokens = countvectorizer.get_feature_names()\n",
    "tfidf_tokens = tfidfvectorizer.get_feature_names()"
   ]
  },
  {
   "cell_type": "code",
   "execution_count": 10,
   "id": "0523c718",
   "metadata": {
    "scrolled": true
   },
   "outputs": [
    {
     "name": "stdout",
     "output_type": "stream",
     "text": [
      "['blue', 'bright', 'sky', 'sun']\n"
     ]
    }
   ],
   "source": [
    "print(count_tokens)"
   ]
  },
  {
   "cell_type": "code",
   "execution_count": 11,
   "id": "b936e25d",
   "metadata": {
    "scrolled": true
   },
   "outputs": [
    {
     "name": "stdout",
     "output_type": "stream",
     "text": [
      "['blue', 'bright', 'sky', 'sun']\n"
     ]
    }
   ],
   "source": [
    "print(tfidf_tokens)"
   ]
  },
  {
   "cell_type": "markdown",
   "id": "5096dd4f",
   "metadata": {},
   "source": [
    "## Converting Into DataFrame"
   ]
  },
  {
   "cell_type": "code",
   "execution_count": 13,
   "id": "405573c6",
   "metadata": {},
   "outputs": [],
   "source": [
    "df_countvect = pd.DataFrame(data = count_wm.toarray(),index = ['Doc1','Doc2'],columns = count_tokens)\n",
    "df_tfidfvect = pd.DataFrame(data = tfidf_wm.toarray(),index = ['Doc1','Doc2'],columns = tfidf_tokens)"
   ]
  },
  {
   "cell_type": "code",
   "execution_count": 14,
   "id": "9286df84",
   "metadata": {},
   "outputs": [
    {
     "name": "stdout",
     "output_type": "stream",
     "text": [
      "      blue  bright  sky  sun\n",
      "Doc1     1       0    1    0\n",
      "Doc2     0       1    0    1\n"
     ]
    }
   ],
   "source": [
    "print(df_countvect)"
   ]
  },
  {
   "cell_type": "markdown",
   "id": "475cbb10",
   "metadata": {},
   "source": [
    "## Model"
   ]
  },
  {
   "cell_type": "code",
   "execution_count": 15,
   "id": "1ca91bf8",
   "metadata": {},
   "outputs": [
    {
     "name": "stdout",
     "output_type": "stream",
     "text": [
      "          blue    bright       sky       sun\n",
      "Doc1  0.707107  0.000000  0.707107  0.000000\n",
      "Doc2  0.000000  0.707107  0.000000  0.707107\n"
     ]
    }
   ],
   "source": [
    "print(df_tfidfvect)"
   ]
  },
  {
   "cell_type": "code",
   "execution_count": 16,
   "id": "826deff6",
   "metadata": {},
   "outputs": [
    {
     "name": "stdout",
     "output_type": "stream",
     "text": [
      "Count Vectorizer\n",
      "\n",
      "      blue  bright  sky  sun\n",
      "Doc1     1       0    1    0\n",
      "Doc2     0       1    0    1\n",
      "\n",
      "TD-IDF Vectorizer\n",
      "\n",
      "          blue    bright       sky       sun\n",
      "Doc1  0.707107  0.000000  0.707107  0.000000\n",
      "Doc2  0.000000  0.707107  0.000000  0.707107\n"
     ]
    }
   ],
   "source": [
    "print(\"Count Vectorizer\\n\")\n",
    "print(df_countvect)\n",
    "print(\"\\nTD-IDF Vectorizer\\n\")\n",
    "print(df_tfidfvect)"
   ]
  },
  {
   "cell_type": "markdown",
   "id": "c89aa213",
   "metadata": {},
   "source": []
  }
 ],
 "metadata": {
  "kernelspec": {
   "display_name": "Python 3",
   "language": "python",
   "name": "python3"
  },
  "language_info": {
   "codemirror_mode": {
    "name": "ipython",
    "version": 3
   },
   "file_extension": ".py",
   "mimetype": "text/x-python",
   "name": "python",
   "nbconvert_exporter": "python",
   "pygments_lexer": "ipython3",
   "version": "3.8.8"
  }
 },
 "nbformat": 4,
 "nbformat_minor": 5
}
